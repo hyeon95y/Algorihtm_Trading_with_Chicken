{
 "cells": [
  {
   "cell_type": "code",
   "execution_count": null,
   "metadata": {},
   "outputs": [],
   "source": [
    "%matplotlib inline\n",
    "%load_ext autoreload\n",
    "%autoreload 2"
   ]
  },
  {
   "cell_type": "code",
   "execution_count": null,
   "metadata": {},
   "outputs": [],
   "source": [
    "import os\n",
    "\n",
    "import numpy as np\n",
    "import pandas as pd\n",
    "import matplotlib.pyplot as plt\n",
    "from tqdm._tqdm_notebook import tqdm_notebook"
   ]
  },
  {
   "cell_type": "markdown",
   "metadata": {},
   "source": [
    "# Load Rawdata"
   ]
  },
  {
   "cell_type": "markdown",
   "metadata": {},
   "source": [
    "# 치킨"
   ]
  },
  {
   "cell_type": "code",
   "execution_count": null,
   "metadata": {},
   "outputs": [],
   "source": [
    "target = 'CHICKEN'\n",
    "years = [2013, 2014, 2015, 2016, 2017, 2018, 2019]\n",
    "df = pd.DataFrame()\n",
    "\n",
    "for year_idx, year in enumerate(years) :\n",
    "\n",
    "    year = str(year)\n",
    "    data_dir = os.path.abspath(os.path.join(os.getcwd(), 'rawdata', target, year))\n",
    "    filelist = os.listdir(data_dir)\n",
    "    filelist.sort()\n",
    "\n",
    "    for month_idx, filename in enumerate(filelist) :\n",
    "        try : \n",
    "            path = os.path.abspath(os.path.join(data_dir, filename))\n",
    "            df_to_merge = pd.read_csv(path)\n",
    "            \n",
    "            #display(df_to_merge.head())\n",
    "            \n",
    "            try : \n",
    "                df_to_merge['기준일'] = df_to_merge['기준일'].str.replace('년', '')\n",
    "                df_to_merge['기준일'] = df_to_merge['기준일'].str.replace('월', '')\n",
    "                df_to_merge['기준일'] = df_to_merge['기준일'].str.replace('일', '')\n",
    "            \n",
    "            except Exception as e_inside : \n",
    "                print(e_inside)\n",
    "            \n",
    "            df_to_merge['기준일'] = pd.to_datetime(df_to_merge['기준일'], format='%Y%m%d')\n",
    "\n",
    "            #display(df_to_merge.head())\n",
    "            \n",
    "\n",
    "            if year_idx == 0 and month_idx == 0 :\n",
    "                df = df_to_merge.copy()\n",
    "            else :\n",
    "                df = pd.concat([df, df_to_merge], ignore_index=True)\n",
    "\n",
    "        except Exception as e:\n",
    "            print(e)\n",
    "\n",
    "display(df.head())\n",
    "display(df.tail())\n",
    "\n",
    "df.to_pickle(os.path.abspath(os.path.join(os.getcwd(), 'data', 'CALLS_CHICKEN.pkl')))"
   ]
  },
  {
   "cell_type": "code",
   "execution_count": null,
   "metadata": {},
   "outputs": [],
   "source": [
    "df = pd.read_pickle(os.path.abspath(os.path.join(os.getcwd(), 'data', 'CALLS_CHICKEN.pkl')))"
   ]
  },
  {
   "cell_type": "code",
   "execution_count": null,
   "metadata": {},
   "outputs": [],
   "source": [
    "df"
   ]
  },
  {
   "cell_type": "code",
   "execution_count": null,
   "metadata": {},
   "outputs": [],
   "source": [
    "df.isna().sum()"
   ]
  },
  {
   "cell_type": "markdown",
   "metadata": {},
   "source": [
    "## ['이용건수', '총건수', '통화건수', '통화량']은 다 같은 것을 나타내는 변수명인듯"
   ]
  },
  {
   "cell_type": "code",
   "execution_count": null,
   "metadata": {},
   "outputs": [],
   "source": [
    "columns = ['이용건수', '총건수', '통화건수', '통화량']\n",
    "plt.figure(figsize=(20, 6))\n",
    "for idx, column in enumerate(columns) : \n",
    "    plt.plot(df[column], label=idx, alpha=0.4)\n",
    "    \n",
    "plt.xlim(0, df.shape[0])\n",
    "plt.legend()\n",
    "plt.show()\n",
    "\n",
    "for idx, column in enumerate(columns) :\n",
    "    plt.figure(figsize=(20, 3))\n",
    "    plt.plot(df[column], label=idx, alpha=0.4)\n",
    "    plt.xlim(0, df.shape[0])\n",
    "    plt.legend()\n",
    "    plt.show()"
   ]
  },
  {
   "cell_type": "code",
   "execution_count": null,
   "metadata": {},
   "outputs": [],
   "source": [
    "df['all'] = df['이용건수']\n",
    "\n",
    "indices_1 = df['이용건수'].dropna().index\n",
    "indices_2 = df['총건수'].dropna().index\n",
    "indices_3 = df['통화건수'].dropna().index\n",
    "indices_4 = df['통화량'].dropna().index\n",
    "\n",
    "df['all'][indices_1] = df['이용건수'][indices_1]\n",
    "df['all'][indices_2] = df['총건수'][indices_2]\n",
    "df['all'][indices_3] = df['통화건수'][indices_3]\n",
    "df['all'][indices_4] = df['통화량'][indices_4]\n",
    "\n",
    "print(df['all'])\n",
    "print(df['all'].isna().sum())\n",
    "\n",
    "df['통화건수'] = df['all']\n",
    "df = df.drop(['이용건수', '총건수', '통화량', 'all'], axis=1)\n",
    "df.to_pickle(os.path.abspath(os.path.join(os.getcwd(), 'data', 'CALLS_CHICKEN.pkl')))\n",
    "df"
   ]
  },
  {
   "cell_type": "markdown",
   "metadata": {},
   "source": [
    "# 전체/배달업종별"
   ]
  },
  {
   "cell_type": "code",
   "execution_count": null,
   "metadata": {},
   "outputs": [],
   "source": [
    "target = 'ALL'\n",
    "years = [2013, 2014, 2015, 2016, 2017, 2018, 2019]\n",
    "# year = str(2013)\n",
    "df = pd.DataFrame()\n",
    "\n",
    "for year_idx, year in enumerate(years) :\n",
    "\n",
    "    year = str(year)\n",
    "    data_dir = os.path.abspath(os.path.join(os.getcwd(), 'rawdata', target, year))\n",
    "    filelist = os.listdir(data_dir)\n",
    "    filelist.sort()\n",
    "\n",
    "    for month_idx, filename in enumerate(filelist) :\n",
    "        try : \n",
    "            print('year_idx : %s, month_idx : %s, filename : %s' % (year_idx, month_idx, filename))\n",
    "            path = os.path.abspath(os.path.join(data_dir, filename))\n",
    "            df_to_merge = pd.read_csv(path)\n",
    "            \n",
    "            display(df_to_merge)\n",
    "            \n",
    "            try : \n",
    "                df_to_merge['일자'] = df_to_merge['일자'].str.replace('년', '')\n",
    "                df_to_merge['일자'] = df_to_merge['일자'].str.replace('월', '')\n",
    "                df_to_merge['일자'] = df_to_merge['일자'].str.replace('일', '')\n",
    "            \n",
    "            except Exception as e_inside : \n",
    "                print(e_inside)\n",
    "            \n",
    "            df_to_merge['일자'] = pd.to_datetime(df_to_merge['일자'], format='%Y%m%d')\n",
    "            \n",
    "            display(df_to_merge)\n",
    "\n",
    "            if year_idx == 0 and month_idx == 0 :\n",
    "                df = df_to_merge.copy()\n",
    "            else :\n",
    "                df = pd.concat([df, df_to_merge], ignore_index=True)\n",
    "\n",
    "        except Exception as e:\n",
    "            print(e)\n",
    "\n",
    "display(df.head())\n",
    "display(df.tail())\n",
    "\n",
    "df.to_pickle(os.path.abspath(os.path.join(os.getcwd(), 'data', 'CALLS_ALL.pkl')))"
   ]
  },
  {
   "cell_type": "code",
   "execution_count": null,
   "metadata": {},
   "outputs": [],
   "source": [
    "df = pd.read_pickle(os.path.abspath(os.path.join(os.getcwd(), 'data', 'CALLS_ALL.pkl')))"
   ]
  },
  {
   "cell_type": "code",
   "execution_count": null,
   "metadata": {},
   "outputs": [],
   "source": [
    "df"
   ]
  },
  {
   "cell_type": "markdown",
   "metadata": {},
   "source": [
    "## 2016년 6월부터 읍면동별로 Segment가 쪼개져서 스케일이 줄어듬 (그 이전까지는 해당 일의 전체 통화건수)"
   ]
  },
  {
   "cell_type": "code",
   "execution_count": null,
   "metadata": {},
   "outputs": [],
   "source": [
    "columns = ['이용건수', '총_건수', '통화건수', '통화량']\n",
    "plt.figure(figsize=(20, 6))\n",
    "for idx, column in enumerate(columns) : \n",
    "    plt.plot(df[column], label=idx, alpha=0.4)\n",
    "    \n",
    "plt.xlim(0, df.shape[0])\n",
    "plt.legend()\n",
    "plt.show()\n",
    "\n",
    "for idx, column in enumerate(columns) :\n",
    "    plt.figure(figsize=(20, 3))\n",
    "    plt.plot(df[column], label=idx, alpha=0.4)\n",
    "    plt.xlim(0, df.shape[0])\n",
    "    plt.legend()\n",
    "    plt.show()"
   ]
  },
  {
   "cell_type": "code",
   "execution_count": null,
   "metadata": {},
   "outputs": [],
   "source": [
    "df['all'] = df['이용건수']\n",
    "\n",
    "indices_1 = df['이용건수'].dropna().index\n",
    "indices_2 = df['총_건수'].dropna().index\n",
    "indices_3 = df['통화건수'].dropna().index\n",
    "indices_4 = df['통화량'].dropna().index\n",
    "\n",
    "df['all'][indices_1] = df['이용건수'][indices_1]\n",
    "df['all'][indices_2] = df['총_건수'][indices_2]\n",
    "df['all'][indices_3] = df['통화건수'][indices_3]\n",
    "df['all'][indices_4] = df['통화량'][indices_4]\n",
    "df['시간대'] = df['시간대'].str.replace('시간대', '')\n",
    "\n",
    "print(df['all'])\n",
    "print(df['all'].isna().sum())\n",
    "\n",
    "df['통화건수'] = df['all']\n",
    "df = df.drop(['이용건수', '총_건수', '통화량', 'all'], axis=1)\n",
    "df.to_pickle(os.path.abspath(os.path.join(os.getcwd(), 'data', 'CALLS_ALL.pkl')))\n",
    "df"
   ]
  },
  {
   "cell_type": "code",
   "execution_count": null,
   "metadata": {},
   "outputs": [],
   "source": []
  }
 ],
 "metadata": {
  "kernelspec": {
   "display_name": "Python 3",
   "language": "python",
   "name": "python3"
  },
  "language_info": {
   "codemirror_mode": {
    "name": "ipython",
    "version": 3
   },
   "file_extension": ".py",
   "mimetype": "text/x-python",
   "name": "python",
   "nbconvert_exporter": "python",
   "pygments_lexer": "ipython3",
   "version": "3.6.8"
  }
 },
 "nbformat": 4,
 "nbformat_minor": 4
}
