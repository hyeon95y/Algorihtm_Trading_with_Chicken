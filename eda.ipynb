{
 "cells": [
  {
   "cell_type": "code",
   "execution_count": 1,
   "metadata": {},
   "outputs": [],
   "source": [
    "%matplotlib inline\n",
    "%load_ext autoreload\n",
    "%autoreload 2"
   ]
  },
  {
   "cell_type": "code",
   "execution_count": 2,
   "metadata": {},
   "outputs": [],
   "source": [
    "import os\n",
    "\n",
    "import numpy as np\n",
    "import pandas as pd\n",
    "import matplotlib.pyplot as plt\n",
    "\n",
    "import ipywidgets as widgets\n",
    "from ipywidgets import interact, interact_manual"
   ]
  },
  {
   "cell_type": "code",
   "execution_count": 3,
   "metadata": {},
   "outputs": [],
   "source": [
    "calls = pd.read_csv('data/CALLS_CLIMATE.csv')"
   ]
  },
  {
   "cell_type": "code",
   "execution_count": 4,
   "metadata": {},
   "outputs": [
    {
     "name": "stderr",
     "output_type": "stream",
     "text": [
      "b'Skipping line 437: expected 12 fields, saw 13\\n'\n"
     ]
    }
   ],
   "source": [
    "kospi_downloaded = pd.read_pickle('history/kospi_download_result.pkl')\n",
    "kospi = pd.read_csv('metadata/kospi.csv', error_bad_lines=False)"
   ]
  },
  {
   "cell_type": "code",
   "execution_count": 5,
   "metadata": {},
   "outputs": [
    {
     "data": {
      "text/html": [
       "<div>\n",
       "<style scoped>\n",
       "    .dataframe tbody tr th:only-of-type {\n",
       "        vertical-align: middle;\n",
       "    }\n",
       "\n",
       "    .dataframe tbody tr th {\n",
       "        vertical-align: top;\n",
       "    }\n",
       "\n",
       "    .dataframe thead th {\n",
       "        text-align: right;\n",
       "    }\n",
       "</style>\n",
       "<table border=\"1\" class=\"dataframe\">\n",
       "  <thead>\n",
       "    <tr style=\"text-align: right;\">\n",
       "      <th></th>\n",
       "      <th>번호</th>\n",
       "      <th>종목코드</th>\n",
       "      <th>기업명</th>\n",
       "      <th>업종코드</th>\n",
       "      <th>업종</th>\n",
       "      <th>상장주식수(주)</th>\n",
       "      <th>자본금(원)</th>\n",
       "      <th>액면가(원)</th>\n",
       "      <th>통화구분</th>\n",
       "      <th>대표전화</th>\n",
       "      <th>주소</th>\n",
       "      <th>총카운트</th>\n",
       "    </tr>\n",
       "  </thead>\n",
       "  <tbody>\n",
       "    <tr>\n",
       "      <th>0</th>\n",
       "      <td>1</td>\n",
       "      <td>095570</td>\n",
       "      <td>AJ네트웍스</td>\n",
       "      <td>147603.0</td>\n",
       "      <td>산업용 기계 및 장비 임대업</td>\n",
       "      <td>46,822,295</td>\n",
       "      <td>46,822,295,000</td>\n",
       "      <td>1,000</td>\n",
       "      <td>원(KRW)</td>\n",
       "      <td>02-6363-9999</td>\n",
       "      <td>서울특별시 송파구 정의로8길 9 (문정동,AJ빌딩)</td>\n",
       "      <td>789.0</td>\n",
       "    </tr>\n",
       "    <tr>\n",
       "      <th>1</th>\n",
       "      <td>2</td>\n",
       "      <td>068400</td>\n",
       "      <td>AJ렌터카</td>\n",
       "      <td>147601.0</td>\n",
       "      <td>운송장비 임대업</td>\n",
       "      <td>22,146,300</td>\n",
       "      <td>11,073,150,000</td>\n",
       "      <td>500</td>\n",
       "      <td>원(KRW)</td>\n",
       "      <td>1544-1600</td>\n",
       "      <td>서울특별시 구로구  서부샛길 822</td>\n",
       "      <td>789.0</td>\n",
       "    </tr>\n",
       "  </tbody>\n",
       "</table>\n",
       "</div>"
      ],
      "text/plain": [
       "  번호    종목코드     기업명      업종코드               업종    상장주식수(주)          자본금(원)  \\\n",
       "0  1  095570  AJ네트웍스  147603.0  산업용 기계 및 장비 임대업  46,822,295  46,822,295,000   \n",
       "1  2  068400   AJ렌터카  147601.0         운송장비 임대업  22,146,300  11,073,150,000   \n",
       "\n",
       "  액면가(원)    통화구분          대표전화                            주소   총카운트  \n",
       "0  1,000  원(KRW)  02-6363-9999  서울특별시 송파구 정의로8길 9 (문정동,AJ빌딩)  789.0  \n",
       "1    500  원(KRW)     1544-1600          서울특별시 구로구  서부샛길 822   789.0  "
      ]
     },
     "execution_count": 5,
     "metadata": {},
     "output_type": "execute_result"
    }
   ],
   "source": [
    "kospi[0:2]"
   ]
  },
  {
   "cell_type": "code",
   "execution_count": 6,
   "metadata": {},
   "outputs": [
    {
     "data": {
      "text/html": [
       "<div>\n",
       "<style scoped>\n",
       "    .dataframe tbody tr th:only-of-type {\n",
       "        vertical-align: middle;\n",
       "    }\n",
       "\n",
       "    .dataframe tbody tr th {\n",
       "        vertical-align: top;\n",
       "    }\n",
       "\n",
       "    .dataframe thead th {\n",
       "        text-align: right;\n",
       "    }\n",
       "</style>\n",
       "<table border=\"1\" class=\"dataframe\">\n",
       "  <thead>\n",
       "    <tr style=\"text-align: right;\">\n",
       "      <th></th>\n",
       "      <th>종목코드</th>\n",
       "      <th>상장일</th>\n",
       "      <th>결과</th>\n",
       "      <th>기업명</th>\n",
       "    </tr>\n",
       "  </thead>\n",
       "  <tbody>\n",
       "    <tr>\n",
       "      <th>0</th>\n",
       "      <td>095570</td>\n",
       "      <td>2015-08-21</td>\n",
       "      <td>Naver</td>\n",
       "      <td>AJ네트웍스</td>\n",
       "    </tr>\n",
       "    <tr>\n",
       "      <th>1</th>\n",
       "      <td>068400</td>\n",
       "      <td>2012-07-27</td>\n",
       "      <td>Naver</td>\n",
       "      <td>AJ렌터카</td>\n",
       "    </tr>\n",
       "    <tr>\n",
       "      <th>2</th>\n",
       "      <td>006840</td>\n",
       "      <td>1999-08-11</td>\n",
       "      <td>Naver</td>\n",
       "      <td>AK홀딩스</td>\n",
       "    </tr>\n",
       "    <tr>\n",
       "      <th>3</th>\n",
       "      <td>027410</td>\n",
       "      <td>2014-05-19</td>\n",
       "      <td>Naver</td>\n",
       "      <td>BGF</td>\n",
       "    </tr>\n",
       "    <tr>\n",
       "      <th>4</th>\n",
       "      <td>282330</td>\n",
       "      <td>2017-12-08</td>\n",
       "      <td>Naver</td>\n",
       "      <td>BGF리테일</td>\n",
       "    </tr>\n",
       "  </tbody>\n",
       "</table>\n",
       "</div>"
      ],
      "text/plain": [
       "     종목코드        상장일     결과     기업명\n",
       "0  095570 2015-08-21  Naver  AJ네트웍스\n",
       "1  068400 2012-07-27  Naver   AJ렌터카\n",
       "2  006840 1999-08-11  Naver   AK홀딩스\n",
       "3  027410 2014-05-19  Naver     BGF\n",
       "4  282330 2017-12-08  Naver  BGF리테일"
      ]
     },
     "execution_count": 6,
     "metadata": {},
     "output_type": "execute_result"
    }
   ],
   "source": [
    "kospi_downloaded.head()"
   ]
  },
  {
   "cell_type": "code",
   "execution_count": 7,
   "metadata": {},
   "outputs": [],
   "source": [
    "def get_company_name(ticker) : \n",
    "    return kospi[kospi['종목코드']==ticker]['기업명'].values[0]\n",
    "\n",
    "kospi_downloaded['기업명'] = kospi_downloaded['종목코드'].apply(lambda x : get_company_name(x))\n",
    "kospi_downloaded.to_pickle('history/kospi_download_result.pkl')"
   ]
  },
  {
   "cell_type": "markdown",
   "metadata": {},
   "source": [
    "# Show by ticker"
   ]
  },
  {
   "cell_type": "code",
   "execution_count": 8,
   "metadata": {},
   "outputs": [
    {
     "data": {
      "text/plain": [
       "0      095570\n",
       "1      068400\n",
       "2      006840\n",
       "3      027410\n",
       "4      282330\n",
       "        ...  \n",
       "783    079980\n",
       "784    005010\n",
       "785    069260\n",
       "786    000540\n",
       "787    003280\n",
       "Name: 종목코드, Length: 788, dtype: object"
      ]
     },
     "execution_count": 8,
     "metadata": {},
     "output_type": "execute_result"
    }
   ],
   "source": [
    "tickers = kospi_downloaded['종목코드']\n",
    "tickers"
   ]
  },
  {
   "cell_type": "code",
   "execution_count": 24,
   "metadata": {},
   "outputs": [
    {
     "data": {
      "application/vnd.jupyter.widget-view+json": {
       "model_id": "d871332fc3a4432ab7d3a86257749834",
       "version_major": 2,
       "version_minor": 0
      },
      "text/plain": [
       "interactive(children=(Dropdown(description='ticker', options=('095570', '068400', '006840', '027410', '282330'…"
      ]
     },
     "metadata": {},
     "output_type": "display_data"
    }
   ],
   "source": [
    "@interact\n",
    "def show_by_ticker(ticker = tickers) : \n",
    "    metadata = kospi[kospi['종목코드'] == ticker]\n",
    "    display(metadata)\n",
    "    \n",
    "    data = pd.read_pickle('data/kospi/%s.data'%ticker)\n",
    "    data.index = pd.to_datetime(data.index)\n",
    "    data['Close'] = pd.to_numeric(data['Close'])\n",
    "    data['Volume'] = pd.to_numeric(data['Volume'])\n",
    "    display(data.head())\n",
    "    \n",
    "    fig = plt.figure(figsize=(10, 6))\n",
    "    \n",
    "    \n",
    "    ax1 = fig.add_subplot(111)\n",
    "    lns1 = ax1.plot(data.index, data['Close'], label='Close')\n",
    "    plt.xticks(rotation=90)\n",
    "    ax2 = ax1.twinx()\n",
    "    lns2 = ax2.plot(data.index, data['Volume'], color='orange', alpha=0.4, label='Volume')\n",
    "    \n",
    "    lns = lns1+lns2\n",
    "    labs = [l.get_label() for l in lns]\n",
    "    plt.legend(lns, labs, loc=0)\n",
    "    plt.title('ticker : %s, %s ~ %s' % (ticker, data.index[0], data.index[-1]))\n",
    "    \n",
    "    plt.show()"
   ]
  },
  {
   "cell_type": "markdown",
   "metadata": {},
   "source": [
    "# Show by company name"
   ]
  },
  {
   "cell_type": "code",
   "execution_count": 25,
   "metadata": {},
   "outputs": [
    {
     "data": {
      "text/plain": [
       "0      AJ네트웍스\n",
       "1       AJ렌터카\n",
       "2       AK홀딩스\n",
       "3         BGF\n",
       "4      BGF리테일\n",
       "        ...  \n",
       "783       휴비스\n",
       "784       휴스틸\n",
       "785       휴켐스\n",
       "786      흥국화재\n",
       "787      흥아해운\n",
       "Name: 기업명, Length: 788, dtype: object"
      ]
     },
     "execution_count": 25,
     "metadata": {},
     "output_type": "execute_result"
    }
   ],
   "source": [
    "company_names = kospi_downloaded['기업명']\n",
    "company_names"
   ]
  },
  {
   "cell_type": "code",
   "execution_count": 26,
   "metadata": {},
   "outputs": [
    {
     "data": {
      "application/vnd.jupyter.widget-view+json": {
       "model_id": "15c2f724e7514fcca6201dd1f089ca5b",
       "version_major": 2,
       "version_minor": 0
      },
      "text/plain": [
       "interactive(children=(Dropdown(description='company_name', options=('AJ네트웍스', 'AJ렌터카', 'AK홀딩스', 'BGF', 'BGF리테일…"
      ]
     },
     "metadata": {},
     "output_type": "display_data"
    }
   ],
   "source": [
    "@interact\n",
    "def show_by_company_name(company_name = company_names) : \n",
    "    metadata = kospi[kospi['기업명'] == company_name]\n",
    "    display(metadata)\n",
    "    \n",
    "    data = pd.read_pickle('data/kospi/%s.data'%ticker)\n",
    "    data.index = pd.to_datetime(data.index)\n",
    "    data['Close'] = pd.to_numeric(data['Close'])\n",
    "    data['Volume'] = pd.to_numeric(data['Volume'])\n",
    "    display(data.head())\n",
    "    \n",
    "    fig = plt.figure(figsize=(10, 6))\n",
    "    \n",
    "    \n",
    "    ax1 = fig.add_subplot(111)\n",
    "    lns1 = ax1.plot(data.index, data['Close'], label='Close')\n",
    "    plt.xticks(rotation=90)\n",
    "    ax2 = ax1.twinx()\n",
    "    lns2 = ax2.plot(data.index, data['Volume'], color='orange', alpha=0.4, label='Volume')\n",
    "    \n",
    "    lns = lns1+lns2\n",
    "    labs = [l.get_label() for l in lns]\n",
    "    plt.legend(lns, labs, loc=0)\n",
    "    plt.title('ticker : %s, %s ~ %s' % (ticker, data.index[0], data.index[-1]))\n",
    "    \n",
    "    plt.show()"
   ]
  },
  {
   "cell_type": "code",
   "execution_count": null,
   "metadata": {},
   "outputs": [],
   "source": []
  }
 ],
 "metadata": {
  "kernelspec": {
   "display_name": "Python 3",
   "language": "python",
   "name": "python3"
  },
  "language_info": {
   "codemirror_mode": {
    "name": "ipython",
    "version": 3
   },
   "file_extension": ".py",
   "mimetype": "text/x-python",
   "name": "python",
   "nbconvert_exporter": "python",
   "pygments_lexer": "ipython3",
   "version": "3.6.8"
  }
 },
 "nbformat": 4,
 "nbformat_minor": 4
}
