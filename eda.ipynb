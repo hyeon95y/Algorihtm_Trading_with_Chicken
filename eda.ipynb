{
 "cells": [
  {
   "cell_type": "code",
   "execution_count": 1,
   "metadata": {},
   "outputs": [],
   "source": [
    "%matplotlib inline\n",
    "%load_ext autoreload\n",
    "%autoreload 2"
   ]
  },
  {
   "cell_type": "code",
   "execution_count": 2,
   "metadata": {},
   "outputs": [],
   "source": [
    "import os\n",
    "import multiprocessing\n",
    "from multiprocessing.pool import ThreadPool\n",
    "\n",
    "import numpy as np\n",
    "import pandas as pd\n",
    "import datetime\n",
    "\n",
    "import matplotlib.pyplot as plt\n",
    "import tqdm\n",
    "import ipywidgets as widgets\n",
    "from ipywidgets import interact, interact_manual"
   ]
  },
  {
   "cell_type": "code",
   "execution_count": 3,
   "metadata": {},
   "outputs": [],
   "source": [
    "from data_io import load_data_by_ticker, get_call_data_for_given_ticker"
   ]
  },
  {
   "cell_type": "code",
   "execution_count": 4,
   "metadata": {},
   "outputs": [
    {
     "name": "stderr",
     "output_type": "stream",
     "text": [
      "b'Skipping line 437: expected 12 fields, saw 13\\n'\n"
     ]
    }
   ],
   "source": [
    "calls = pd.read_pickle('data/CALLS_TRANSFORMED.pkl')\n",
    "kospi_downloaded = pd.read_pickle('history/kospi_download_result.pkl')\n",
    "kospi = pd.read_csv('metadata/kospi.csv', error_bad_lines=False)"
   ]
  },
  {
   "cell_type": "code",
   "execution_count": 5,
   "metadata": {},
   "outputs": [],
   "source": [
    "tickers = kospi_downloaded['종목코드']"
   ]
  },
  {
   "cell_type": "code",
   "execution_count": 6,
   "metadata": {},
   "outputs": [
    {
     "data": {
      "text/html": [
       "<div>\n",
       "<style scoped>\n",
       "    .dataframe tbody tr th:only-of-type {\n",
       "        vertical-align: middle;\n",
       "    }\n",
       "\n",
       "    .dataframe tbody tr th {\n",
       "        vertical-align: top;\n",
       "    }\n",
       "\n",
       "    .dataframe thead th {\n",
       "        text-align: right;\n",
       "    }\n",
       "</style>\n",
       "<table border=\"1\" class=\"dataframe\">\n",
       "  <thead>\n",
       "    <tr style=\"text-align: right;\">\n",
       "      <th></th>\n",
       "      <th>기업명</th>\n",
       "      <th>ticker</th>\n",
       "      <th>Correlation with</th>\n",
       "      <th>Time lag</th>\n",
       "      <th>High</th>\n",
       "      <th>Low</th>\n",
       "      <th>Open</th>\n",
       "      <th>Close</th>\n",
       "      <th>Volume</th>\n",
       "      <th>Adj Close</th>\n",
       "      <th>...</th>\n",
       "      <th>중랑구, 20대, 남</th>\n",
       "      <th>중랑구, 20대, 여</th>\n",
       "      <th>중랑구, 30대, 남</th>\n",
       "      <th>중랑구, 30대, 여</th>\n",
       "      <th>중랑구, 40대, 남</th>\n",
       "      <th>중랑구, 40대, 여</th>\n",
       "      <th>중랑구, 50대, 남</th>\n",
       "      <th>중랑구, 50대, 여</th>\n",
       "      <th>중랑구, 60대, 남</th>\n",
       "      <th>중랑구, 60대, 여</th>\n",
       "    </tr>\n",
       "  </thead>\n",
       "  <tbody>\n",
       "  </tbody>\n",
       "</table>\n",
       "<p>0 rows × 311 columns</p>\n",
       "</div>"
      ],
      "text/plain": [
       "Empty DataFrame\n",
       "Columns: [기업명, ticker, Correlation with, Time lag, High, Low, Open, Close, Volume, Adj Close, 총건수, 강남구, 10대, 남, 강남구, 10대, 여, 강남구, 20대, 남, 강남구, 20대, 여, 강남구, 30대, 남, 강남구, 30대, 여, 강남구, 40대, 남, 강남구, 40대, 여, 강남구, 50대, 남, 강남구, 50대, 여, 강남구, 60대, 남, 강남구, 60대, 여, 강동구, 10대, 남, 강동구, 10대, 여, 강동구, 20대, 남, 강동구, 20대, 여, 강동구, 30대, 남, 강동구, 30대, 여, 강동구, 40대, 남, 강동구, 40대, 여, 강동구, 50대, 남, 강동구, 50대, 여, 강동구, 60대, 남, 강동구, 60대, 여, 강북구, 10대, 남, 강북구, 10대, 여, 강북구, 20대, 남, 강북구, 20대, 여, 강북구, 30대, 남, 강북구, 30대, 여, 강북구, 40대, 남, 강북구, 40대, 여, 강북구, 50대, 남, 강북구, 50대, 여, 강북구, 60대, 남, 강북구, 60대, 여, 강서구, 10대, 남, 강서구, 10대, 여, 강서구, 20대, 남, 강서구, 20대, 여, 강서구, 30대, 남, 강서구, 30대, 여, 강서구, 40대, 남, 강서구, 40대, 여, 강서구, 50대, 남, 강서구, 50대, 여, 강서구, 60대, 남, 강서구, 60대, 여, 관악구, 10대, 남, 관악구, 10대, 여, 관악구, 20대, 남, 관악구, 20대, 여, 관악구, 30대, 남, 관악구, 30대, 여, 관악구, 40대, 남, 관악구, 40대, 여, 관악구, 50대, 남, 관악구, 50대, 여, 관악구, 60대, 남, 관악구, 60대, 여, 광진구, 10대, 남, 광진구, 10대, 여, 광진구, 20대, 남, 광진구, 20대, 여, 광진구, 30대, 남, 광진구, 30대, 여, 광진구, 40대, 남, 광진구, 40대, 여, 광진구, 50대, 남, 광진구, 50대, 여, 광진구, 60대, 남, 광진구, 60대, 여, 구로구, 10대, 남, 구로구, 10대, 여, 구로구, 20대, 남, 구로구, 20대, 여, 구로구, 30대, 남, 구로구, 30대, 여, 구로구, 40대, 남, 구로구, 40대, 여, 구로구, 50대, 남, 구로구, 50대, 여, 구로구, 60대, 남, 구로구, 60대, 여, 금천구, 10대, 남, 금천구, 10대, 여, 금천구, 20대, 남, 금천구, 20대, 여, 금천구, 30대, 남, ...]\n",
       "Index: []\n",
       "\n",
       "[0 rows x 311 columns]"
      ]
     },
     "execution_count": 6,
     "metadata": {},
     "output_type": "execute_result"
    }
   ],
   "source": [
    "_, columns_for_df = get_call_data_for_given_ticker(calls, kospi, tickers[0])\n",
    "columns_for_df = columns_for_df.columns.insert(0, 'Time lag').insert(0, 'Correlation with').insert(0, 'ticker').insert(0, '기업명')\n",
    "df_corr = pd.DataFrame(columns=columns_for_df)\n",
    "df_corr"
   ]
  },
  {
   "cell_type": "code",
   "execution_count": 7,
   "metadata": {},
   "outputs": [],
   "source": [
    "def get_correlation_by_ticker(calls, kospi, ticker, idx) : \n",
    "\n",
    "    company_name, df_totest = get_call_data_for_given_ticker(calls, kospi, ticker)\n",
    "    \n",
    "    \n",
    "    time_lags = [0,1,2,5,10,25,50]\n",
    "    \n",
    "    # for time lag\n",
    "    for idx_time_lag, time_lag in enumerate(time_lags) : \n",
    "        df = df_totest.copy()\n",
    "        if time_lag != 0 :\n",
    "            df[['High', 'Low', 'Open', 'Close', 'Volume']] = df[['High', 'Low', 'Open', 'Close', 'Volume']].shift(periods=time_lag*(-1))\n",
    "        \n",
    "        # for price and volume\n",
    "        candidates = ['High', 'Low', 'Open', 'Close', 'Volume']\n",
    "        for idx_candidate, candidate in enumerate(candidates) : \n",
    "            temp = df.corr()[candidate]\n",
    "            temp = pd.concat([pd.Series([company_name, ticker, candidate, time_lag], index=['기업명', 'ticker', 'Correlation with', 'Time lag']), temp])\n",
    "            df_corr.loc[idx*(len(time_lags)*len(candidates))+idx_time_lag*len(candidates)+idx_candidate] = temp\n",
    "\n",
    "    pbar.update(1)\n",
    "    return\n",
    "\n",
    "#idx = 0\n",
    "#get_correlation_by_ticker(calls, kospi, tickers[idx], idx)\n",
    "#df_corr.head()"
   ]
  },
  {
   "cell_type": "code",
   "execution_count": null,
   "metadata": {},
   "outputs": [
    {
     "name": "stderr",
     "output_type": "stream",
     "text": [
      " 37%|███▋      | 290/788 [26:01<58:39,  7.07s/it]  "
     ]
    }
   ],
   "source": [
    "pool = ThreadPool(24)\n",
    "with tqdm.tqdm(total=tickers.shape[0]) as pbar :\n",
    "    for idx in range(tickers.shape[0]) : \n",
    "        pool.apply_async(get_correlation_by_ticker, [calls, kospi, tickers[idx], idx])\n",
    "        \n",
    "    pool.close()\n",
    "    pool.join()\n",
    "    \n",
    "df_corr.to_pickle('metadata/df_corr.pkl')"
   ]
  }
 ],
 "metadata": {
  "kernelspec": {
   "display_name": "Python 3",
   "language": "python",
   "name": "python3"
  },
  "language_info": {
   "codemirror_mode": {
    "name": "ipython",
    "version": 3
   },
   "file_extension": ".py",
   "mimetype": "text/x-python",
   "name": "python",
   "nbconvert_exporter": "python",
   "pygments_lexer": "ipython3",
   "version": "3.6.8"
  }
 },
 "nbformat": 4,
 "nbformat_minor": 4
}
