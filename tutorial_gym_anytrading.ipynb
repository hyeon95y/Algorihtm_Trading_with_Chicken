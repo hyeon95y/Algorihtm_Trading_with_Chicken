{
 "cells": [
  {
   "cell_type": "code",
   "execution_count": 58,
   "metadata": {},
   "outputs": [],
   "source": [
    "import os\n",
    "import multiprocessing\n",
    "from multiprocessing.pool import ThreadPool\n",
    "import copy\n",
    "\n",
    "import numpy as np\n",
    "import pandas as pd\n",
    "import datetime\n",
    "\n",
    "import matplotlib.pyplot as plt\n",
    "import tqdm\n",
    "import ipywidgets as widgets\n",
    "from ipywidgets import interact, interact_manual\n",
    "\n",
    "from xgboost import XGBRegressor as xgb\n",
    "from lightgbm import LGBMRegressor as lgbm\n",
    "from catboost import CatBoostRegressor as cat\n",
    "from sklearn.metrics import r2_score\n",
    "\n",
    "from backtesting import Backtest, Strategy\n",
    "from backtesting.lib import crossover\n",
    "from backtesting.test import SMA\n",
    "\n",
    "from GPyOpt.methods import BayesianOptimization"
   ]
  },
  {
   "cell_type": "code",
   "execution_count": 59,
   "metadata": {},
   "outputs": [],
   "source": [
    "import gym\n",
    "import gym_anytrading\n",
    "from gym_anytrading.envs import TradingEnv, ForexEnv, StocksEnv, Actions, Positions \n",
    "from gym_anytrading.datasets import FOREX_EURUSD_1H_ASK, STOCKS_GOOGL\n",
    "import matplotlib.pyplot as plt"
   ]
  },
  {
   "cell_type": "markdown",
   "metadata": {},
   "source": [
    "# Load Data"
   ]
  },
  {
   "cell_type": "code",
   "execution_count": 60,
   "metadata": {},
   "outputs": [],
   "source": [
    "df_input = pd.read_pickle('data/CALLS_FINAL.pkl')\n",
    "#display(df_input.head())\n",
    "#display(df_input.tail())"
   ]
  },
  {
   "cell_type": "code",
   "execution_count": 61,
   "metadata": {},
   "outputs": [],
   "source": [
    "target_mtd = pd.read_csv('metadata/target_kospi.csv')\n",
    "target_mtd['코드'] = target_mtd['코드'].apply(lambda x: str(int(x)).zfill(6))\n",
    "target_mtd.columns = [x.replace('품목', '기업명') for x in target_mtd.columns]\n",
    "target_mtd = target_mtd[['코드', '기업명']]\n",
    "#display(target_mtd.head())\n",
    "#display(target_mtd.tail())"
   ]
  },
  {
   "cell_type": "markdown",
   "metadata": {},
   "source": [
    "# Prepare data to feed"
   ]
  },
  {
   "cell_type": "code",
   "execution_count": 62,
   "metadata": {},
   "outputs": [],
   "source": [
    "# load data\n",
    "def load_data(ticker, visualize=False) : \n",
    "\n",
    "    stock_price = pd.read_pickle('data/kospi/%s.data' % ticker)\n",
    "    stock_price.index = pd.to_datetime(stock_price.index)\n",
    "    stock_price = stock_price.drop(['Adj Close'], axis=1)\n",
    "    #stock_price = pd.DataFrame(stock_price[['Close']])\n",
    "    #other_components = stock_price[['Open', 'High', 'Low', 'Volume']]\n",
    "    stock_price\n",
    "\n",
    "    # merge wihtout time lag\n",
    "    df = stock_price.merge(df_input, how='inner', left_on=stock_price.index, right_on=df_input.index)\n",
    "    df.index = df['key_0']\n",
    "    df = df.drop(['key_0'], axis=1)\n",
    "\n",
    "    # preprocess (remove object columns)\n",
    "    for idx_day, day in enumerate(['월요일', '화요일', '수요일', '목요일', '금요일']) : \n",
    "        df['요일'] = df['요일'].apply(lambda x : idx_day if x==day else x)\n",
    "    for column in df.select_dtypes('object').columns : \n",
    "        df[column] = df[column].apply(lambda x : x.replace(',', ''))\n",
    "        df[column] = pd.to_numeric(df[column])\n",
    "\n",
    "    #display(df)\n",
    "    if visualize==True : \n",
    "        print(df.info())\n",
    "    return df"
   ]
  },
  {
   "cell_type": "code",
   "execution_count": 76,
   "metadata": {},
   "outputs": [],
   "source": [
    "ticker = '079430'\n",
    "df_test = load_data(ticker)"
   ]
  },
  {
   "cell_type": "markdown",
   "metadata": {},
   "source": [
    "# Run RL"
   ]
  },
  {
   "cell_type": "code",
   "execution_count": 77,
   "metadata": {},
   "outputs": [
    {
     "name": "stdout",
     "output_type": "stream",
     "text": [
      "info: {'total_reward': 10010.0, 'total_profit': 0.006272737124940037, 'position': 1}\n"
     ]
    },
    {
     "data": {
      "image/png": "[encoded data removed]",
      "text/plain": [
       "<Figure size 432x288 with 1 Axes>"
      ]
     },
     "metadata": {
      "needs_background": "light"
     },
     "output_type": "display_data"
    }
   ],
   "source": [
    "df_target = df_test.copy()\n",
    "\n",
    "def my_process_data(df, window_size, frame_bound):\n",
    "    start = frame_bound[0] - window_size\n",
    "    end = frame_bound[1]\n",
    "    prices = df.loc[:, 'Close'].to_numpy()[start:end]\n",
    "    signal_features = df.drop(['Close'], axis=1).to_numpy()[start:end]\n",
    "    return prices, signal_features\n",
    "\n",
    "\n",
    "class MyStocksEnv(StocksEnv):\n",
    "    \n",
    "    def __init__(self, prices, signal_features, **kwargs):\n",
    "        self._prices = prices\n",
    "        self._signal_features = signal_features\n",
    "        super().__init__(**kwargs)\n",
    "\n",
    "    def _process_data(self):\n",
    "        return self._prices, self._signal_features\n",
    "\n",
    "    \n",
    "prices, signal_features = my_process_data(df=df_target, window_size=30, frame_bound=(30, len(STOCKS_GOOGL)))\n",
    "env = MyStocksEnv(prices, signal_features, df=df_target, window_size=30, frame_bound=(30, len(STOCKS_GOOGL)))\n",
    "\n",
    "observation = env.reset()\n",
    "while True:\n",
    "#for _ in range(100) : \n",
    "    action = env.action_space.sample()\n",
    "    observation, reward, done, info = env.step(action)\n",
    "    #env.render()\n",
    "    if done:\n",
    "        print(\"info:\", info)\n",
    "        break\n",
    "\n",
    "plt.cla()\n",
    "env.render_all()\n",
    "#env.render()\n",
    "plt.show()"
   ]
  },
  {
   "cell_type": "code",
   "execution_count": null,
   "metadata": {},
   "outputs": [],
   "source": []
  }
 ],
 "metadata": {
  "kernelspec": {
   "display_name": "Python 3",
   "language": "python",
   "name": "python3"
  },
  "language_info": {
   "codemirror_mode": {
    "name": "ipython",
    "version": 3
   },
   "file_extension": ".py",
   "mimetype": "text/x-python",
   "name": "python",
   "nbconvert_exporter": "python",
   "pygments_lexer": "ipython3",
   "version": "3.6.8"
  }
 },
 "nbformat": 4,
 "nbformat_minor": 4
}
